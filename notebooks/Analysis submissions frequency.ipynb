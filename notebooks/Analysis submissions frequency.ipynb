{
 "cells": [
  {
   "cell_type": "code",
   "execution_count": 1,
   "metadata": {
    "ExecuteTime": {
     "end_time": "2019-06-05T20:26:10.808212Z",
     "start_time": "2019-06-05T20:26:10.443019Z"
    }
   },
   "outputs": [],
   "source": [
    "import json\n",
    "import Levenshtein as lv\n",
    "import numpy as np\n",
    "import pandas as pd\n",
    "import matplotlib.pyplot as plt\n",
    "import pickle"
   ]
  },
  {
   "cell_type": "code",
   "execution_count": 13,
   "metadata": {
    "ExecuteTime": {
     "end_time": "2019-06-05T20:32:20.106570Z",
     "start_time": "2019-06-05T20:32:20.089314Z"
    }
   },
   "outputs": [],
   "source": [
    "def measure_time_distance(timedelta):\n",
    "    \"\"\"\n",
    "    Function that convert timedelta into seconds\n",
    "    \"\"\"\n",
    "    distance = (timedelta.total_seconds())\n",
    "    return distance\n",
    "\n",
    "def measure_text_distance(x,y):\n",
    "    \"\"\"\n",
    "    Function that calculate the Levenshtein distance\n",
    "    between two submissions code.\n",
    "    https://en.wikipedia.org/wiki/Levenshtein_distance\n",
    "    \"\"\"\n",
    "    return lv.distance(x,y)\n",
    "\n",
    "def calculate_distribution(df, column_name, exercise, mean=True):\n",
    "    \"\"\"\n",
    "    df: Dataframe with submissions\n",
    "    column_name: column with status\n",
    "\n",
    "    Function to obtain distribution of submissions status\n",
    "    return metrics and amount of submissions\n",
    "    \"\"\"\n",
    "    total_amount_submissions = df.shape[0]\n",
    "    submissions_grouped = df.groupby([column_name]).size()\n",
    "    metrics = {}\n",
    "    if mean:\n",
    "        metrics = submissions_grouped/total_amount_submissions\n",
    "    else:\n",
    "        metrics = submissions_grouped\n",
    "    metrics['exercise'] = str(exercise)\n",
    "    metrics['submission_amount'] = total_amount_submissions\n",
    "    return metrics\n",
    "\n",
    "def shift_columns(df, shift_social=False):\n",
    "    \"\"\"\n",
    "    Function that create 4 new columns\n",
    "    shifted column contains submissions_content shifted to calculate the distance\n",
    "    datetime_shifted contains datetime shifted to calculate the distance between times\n",
    "    \n",
    "    distance, Levenshtein distance between submissions\n",
    "    time_dist, time distance between submissions in seconds\n",
    "    \"\"\"\n",
    "    df.loc[:,'shifted'] = df['content'].shift().fillna(value='')\n",
    "    df.loc[:,'guide.name.previous'] = df['guide.name'].shift().fillna(value='')\n",
    "    df.loc[:,'datetime_shifted'] = df['datetime'].shift().fillna(value=pd.Timestamp(1800, 1, 1, 0))\n",
    "    df.loc[:,'student.email.previous'] = df['student.email'].shift().fillna(value='')\n",
    "    df['distance'] = df.apply(lambda x : measure_text_distance(x['content'],x['shifted']), axis=1)\n",
    "    df['time_dist'] = df.apply(lambda x : measure_time_distance(x['datetime']-x['datetime_shifted']), axis=1)\n",
    "    df.loc[:,'exercise.eid.previous'] = df['exercise.eid'].shift().fillna(value='')\n",
    "    df.loc[:,'exercise.name.previous'] = df['exercise.name'].shift().fillna(value='')\n",
    "    df.loc[:,'submissions_status.previous'] = df['submissions_status'].shift().fillna(value='')\n",
    "    df.loc[:,'submissions_count.previous'] = df['submissions_count'].shift().fillna(value='')\n",
    "    df['switch_exercise'] = df.apply(lambda x : x['exercise.name'] != x['exercise.name.previous'], axis=1)\n",
    "    if shift_social:\n",
    "        df['submitter.social_id.previous'] = df['submitter.social_id'].shift().fillna(value='')\n",
    "        \n",
    "    return df\n",
    "\n",
    "def plot_time_between_submissions(dic, time_max):\n",
    "    plt.gcf().clear()\n",
    "    plt.style.use('seaborn')\n",
    "    plt.figure(\"Time between submissions\", figsize=(30,15))\n",
    "    plt.title(\"Tiempo entre soluciones\", size=26)\n",
    "    plt.bar(list(dic.keys()), height=list(dic.values()), edgecolor='black', label='Cantidad de submissions', width=4)\n",
    "\n",
    "    #ticks = np.arange(10, time_max, 10)\n",
    "    #plt.xticks(rotation=70)\n",
    "    #plt.xticks(ticks, ticks, size=13)\n",
    "\n",
    "    plt.xlabel('Tiempo (en segundos)', size=18)\n",
    "    plt.ylabel('Cantidad de submissions', size=18)\n",
    "    plt.legend()\n",
    "    plt.show()"
   ]
  },
  {
   "cell_type": "markdown",
   "metadata": {},
   "source": [
    "### Load Dataset\n",
    "Load dataset, normalize and expand nested json with submissions to obtain a plain dataframe with one submission in each row.\n",
    "\n",
    "Before, create a column named as 'datetime' with the date and time of the submission.\n",
    "\n",
    "Finally remove all the null content submissions because these will cause problems in processings."
   ]
  },
  {
   "cell_type": "code",
   "execution_count": 3,
   "metadata": {
    "ExecuteTime": {
     "end_time": "2019-06-05T20:26:30.022745Z",
     "start_time": "2019-06-05T20:26:28.766069Z"
    }
   },
   "outputs": [],
   "source": [
    "dataset_home = \"datasets/\"\n",
    "json_file = open(dataset_home + '2018-2c-introalgo-2018-2c.json', encoding='utf8')\n",
    "json_data = json.load(json_file)\n",
    "submissions = pd.io.json.json_normalize(\n",
    "      json_data, 'submissions', [['guide','slug'], ['student','email'],['guide','name'], ['exercise','name'],['exercise','eid'],['guide','language','name']], record_prefix='submissions_', errors='ignore')\n",
    "submissions['datetime'] = pd.to_datetime(submissions['submissions_created_at'])\n",
    "submissions = submissions[~submissions['submissions_content'].isnull()]\n",
    "submissions = submissions[~(submissions['submissions_status']=='aborted')]\n",
    "submissions = submissions[submissions['guide.language.name'] == 'haskell']\n",
    "submissions = submissions.drop(\n",
    "    submissions[(submissions['student.email'] == 'walteralini@gmail.com') |\n",
    "                (submissions['student.email'] == 'romina.altamirano@gmail.com') |\n",
    "                (submissions['student.email'] == 'kouichicruz@gmail.com')].index)\n",
    "submissions = submissions.drop(\n",
    "    submissions[(submissions['student.email'] == 'ismaelpeker@gmail.com') &\n",
    "                (submissions['submissions_created_at'].str.contains('2017'))].index)\n",
    "short_submissions_df = submissions[['submissions_content','datetime','exercise.name', 'student.email']]"
   ]
  },
  {
   "cell_type": "code",
   "execution_count": 4,
   "metadata": {
    "ExecuteTime": {
     "end_time": "2019-06-05T20:26:34.633630Z",
     "start_time": "2019-06-05T20:26:34.614944Z"
    }
   },
   "outputs": [
    {
     "name": "stdout",
     "output_type": "stream",
     "text": [
      "Mem usage with full df 2637856\n",
      "Mem usage with short df 775840\n",
      "Proportion between df 0.29411764705882354\n"
     ]
    }
   ],
   "source": [
    "mem_big = submissions.memory_usage(index=True).sum()\n",
    "mem_short = short_submissions_df.memory_usage(index=True).sum()\n",
    "print(\"Mem usage with full df {}\".format(mem_big))\n",
    "print(\"Mem usage with short df {}\".format(mem_short))\n",
    "\n",
    "print(\"Proportion between df {}\".format(mem_short/mem_big))"
   ]
  },
  {
   "cell_type": "markdown",
   "metadata": {},
   "source": [
    "### Only for dive into dataset\n",
    "show status distribution"
   ]
  },
  {
   "cell_type": "code",
   "execution_count": 18,
   "metadata": {
    "ExecuteTime": {
     "end_time": "2019-06-05T20:52:41.063361Z",
     "start_time": "2019-06-05T20:52:40.180404Z"
    }
   },
   "outputs": [],
   "source": [
    "import os\n",
    "#os.listdir('dataframes_pkl/failed_submissions_df.pkl')\n",
    "# submissions = pd.read_pickle('dataframes_pkl/introAlgo_FINAL_anotado.pkl')\n",
    "submissions = pd.read_pickle('dataframes_pkl/mumuki_io_FINAL_anotado.pkl')"
   ]
  },
  {
   "cell_type": "code",
   "execution_count": 19,
   "metadata": {
    "ExecuteTime": {
     "end_time": "2019-06-05T20:52:47.473328Z",
     "start_time": "2019-06-05T20:52:47.445819Z"
    }
   },
   "outputs": [
    {
     "data": {
      "text/plain": [
       "submissions_status\n",
       "errored                  69249\n",
       "failed                   86525\n",
       "passed                   68106\n",
       "passed_with_warnings     11821\n",
       "exercise                 todos\n",
       "submission_amount       235701\n",
       "dtype: object"
      ]
     },
     "execution_count": 19,
     "metadata": {},
     "output_type": "execute_result"
    }
   ],
   "source": [
    "calculate_distribution(submissions, 'submissions_status', 'todos', False)"
   ]
  },
  {
   "cell_type": "code",
   "execution_count": 46,
   "metadata": {
    "ExecuteTime": {
     "end_time": "2019-03-02T16:51:02.500584Z",
     "start_time": "2019-03-02T16:51:02.478964Z"
    }
   },
   "outputs": [
    {
     "data": {
      "text/plain": [
       "submissions_status\n",
       "errored                           7459\n",
       "failed                            7874\n",
       "passed                            3271\n",
       "passed_with_warnings               792\n",
       "exercise                IntroAlgo 2018\n",
       "submission_amount                19396\n",
       "dtype: object"
      ]
     },
     "execution_count": 46,
     "metadata": {},
     "output_type": "execute_result"
    }
   ],
   "source": [
    "calculate_distribution(submissions, 'submissions_status', 'IntroAlgo 2018', mean=False)"
   ]
  },
  {
   "cell_type": "markdown",
   "metadata": {},
   "source": [
    "### Important thing is done below\n",
    "Calculate time between submissions by exercise and student.\n",
    "Only calculate for exercises with more than one submissions done.\n",
    "One thing that u have to consider, the time diference between first submissions is calculated subtracting it with 1-1-1800.\n",
    "So it is easiest way to figure out which is the time difference that u have not consider as a valid time difference.\n"
   ]
  },
  {
   "cell_type": "code",
   "execution_count": 74,
   "metadata": {
    "ExecuteTime": {
     "end_time": "2019-03-02T17:22:03.918662Z",
     "start_time": "2019-03-02T17:22:03.898333Z"
    }
   },
   "outputs": [
    {
     "data": {
      "text/plain": [
       "Index(['content', 'guide.name', 'datetime', 'student.email', 'distance',\n",
       "       'time_dist', 'exercise.eid', 'exercise.name', 'submissions_status',\n",
       "       'submissions_count', 'switch_exercise', 'dropout_switch',\n",
       "       'dropout_session', 'dropout_session_tray', 'dropout_switch_tray',\n",
       "       'dropout', 'dropout_tray', 'PSA', 'PCA', 'PCAM', 'PA', 'EA', 'PPA',\n",
       "       'PTT', 'PDL', 'IPA', 'PCSA', 'APE', 'CAPE', 'COMP'],\n",
       "      dtype='object')"
      ]
     },
     "execution_count": 74,
     "metadata": {},
     "output_type": "execute_result"
    }
   ],
   "source": [
    "submissions.columns"
   ]
  },
  {
   "cell_type": "code",
   "execution_count": 20,
   "metadata": {
    "ExecuteTime": {
     "end_time": "2019-06-05T20:53:59.431134Z",
     "start_time": "2019-06-05T20:52:51.121044Z"
    }
   },
   "outputs": [],
   "source": [
    "#para mumukio\n",
    "#submissions = submissions.sort_values(['student.email', 'datetime'])\n",
    "#submissions = shift_columns(submissions, True)\n",
    "#para introAlgo\n",
    "submissions = submissions.sort_values(['student.email', 'datetime'])\n",
    "submissions = shift_columns(submissions, False)"
   ]
  },
  {
   "cell_type": "code",
   "execution_count": 6,
   "metadata": {
    "ExecuteTime": {
     "end_time": "2019-01-15T13:26:01.572482Z",
     "start_time": "2019-01-15T13:26:01.568927Z"
    }
   },
   "outputs": [],
   "source": [
    "#only to show\n",
    "#submissions[(submissions['student.email'] == submissions['student.email.previous'])][['student.email', 'student.email.previous', 'time_dist']].sort_values('time_dist', ascending=False)\n",
    "#submissions[(submissions['student.email'] == submissions['student.email.previous']) |(submissions['submitter.social_id'] == submissions['submitter.social_id.previous'])][['student.email', 'student.email.previous', 'time_dist']].sort_values('time_dist', ascending=False)#['time_dist']"
   ]
  },
  {
   "cell_type": "markdown",
   "metadata": {},
   "source": [
    "### another important task is donde below\n",
    "First of all, sort time differences calculated previously ascending, round it (in the furture probably we dont want to round it).\n",
    "Before that count the differences times ocurrences. "
   ]
  },
  {
   "cell_type": "code",
   "execution_count": 52,
   "metadata": {
    "ExecuteTime": {
     "end_time": "2019-03-02T16:51:56.470902Z",
     "start_time": "2019-03-02T16:51:56.449532Z"
    }
   },
   "outputs": [],
   "source": [
    "#submissions = submissions[(submissions['student.email'] == submissions['student.email.previous']) | \n",
    "#                         (submissions['submitter.social_id'] == submissions['submitter.social_id.previous'])]\n",
    "#introalgo\n",
    "submissions = submissions[submissions['student.email'] == submissions['student.email.previous']]"
   ]
  },
  {
   "cell_type": "code",
   "execution_count": null,
   "metadata": {},
   "outputs": [],
   "source": []
  },
  {
   "cell_type": "code",
   "execution_count": 21,
   "metadata": {
    "ExecuteTime": {
     "end_time": "2019-06-05T20:54:12.629708Z",
     "start_time": "2019-06-05T20:54:12.002305Z"
    }
   },
   "outputs": [
    {
     "data": {
      "text/html": [
       "<div>\n",
       "<style scoped>\n",
       "    .dataframe tbody tr th:only-of-type {\n",
       "        vertical-align: middle;\n",
       "    }\n",
       "\n",
       "    .dataframe tbody tr th {\n",
       "        vertical-align: top;\n",
       "    }\n",
       "\n",
       "    .dataframe thead th {\n",
       "        text-align: right;\n",
       "    }\n",
       "</style>\n",
       "<table border=\"1\" class=\"dataframe\">\n",
       "  <thead>\n",
       "    <tr style=\"text-align: right;\">\n",
       "      <th></th>\n",
       "      <th>time_dist</th>\n",
       "    </tr>\n",
       "  </thead>\n",
       "  <tbody>\n",
       "    <tr>\n",
       "      <th>0</th>\n",
       "      <td>0.000000e+00</td>\n",
       "    </tr>\n",
       "    <tr>\n",
       "      <th>1</th>\n",
       "      <td>0.000000e+00</td>\n",
       "    </tr>\n",
       "    <tr>\n",
       "      <th>2</th>\n",
       "      <td>0.000000e+00</td>\n",
       "    </tr>\n",
       "    <tr>\n",
       "      <th>3</th>\n",
       "      <td>0.000000e+00</td>\n",
       "    </tr>\n",
       "    <tr>\n",
       "      <th>4</th>\n",
       "      <td>0.000000e+00</td>\n",
       "    </tr>\n",
       "    <tr>\n",
       "      <th>5</th>\n",
       "      <td>0.000000e+00</td>\n",
       "    </tr>\n",
       "    <tr>\n",
       "      <th>6</th>\n",
       "      <td>0.000000e+00</td>\n",
       "    </tr>\n",
       "    <tr>\n",
       "      <th>7</th>\n",
       "      <td>0.000000e+00</td>\n",
       "    </tr>\n",
       "    <tr>\n",
       "      <th>8</th>\n",
       "      <td>0.000000e+00</td>\n",
       "    </tr>\n",
       "    <tr>\n",
       "      <th>9</th>\n",
       "      <td>0.000000e+00</td>\n",
       "    </tr>\n",
       "    <tr>\n",
       "      <th>10</th>\n",
       "      <td>0.000000e+00</td>\n",
       "    </tr>\n",
       "    <tr>\n",
       "      <th>11</th>\n",
       "      <td>0.000000e+00</td>\n",
       "    </tr>\n",
       "    <tr>\n",
       "      <th>12</th>\n",
       "      <td>0.000000e+00</td>\n",
       "    </tr>\n",
       "    <tr>\n",
       "      <th>13</th>\n",
       "      <td>0.000000e+00</td>\n",
       "    </tr>\n",
       "    <tr>\n",
       "      <th>14</th>\n",
       "      <td>0.000000e+00</td>\n",
       "    </tr>\n",
       "    <tr>\n",
       "      <th>15</th>\n",
       "      <td>0.000000e+00</td>\n",
       "    </tr>\n",
       "    <tr>\n",
       "      <th>16</th>\n",
       "      <td>0.000000e+00</td>\n",
       "    </tr>\n",
       "    <tr>\n",
       "      <th>17</th>\n",
       "      <td>0.000000e+00</td>\n",
       "    </tr>\n",
       "    <tr>\n",
       "      <th>18</th>\n",
       "      <td>0.000000e+00</td>\n",
       "    </tr>\n",
       "    <tr>\n",
       "      <th>19</th>\n",
       "      <td>0.000000e+00</td>\n",
       "    </tr>\n",
       "    <tr>\n",
       "      <th>20</th>\n",
       "      <td>0.000000e+00</td>\n",
       "    </tr>\n",
       "    <tr>\n",
       "      <th>21</th>\n",
       "      <td>0.000000e+00</td>\n",
       "    </tr>\n",
       "    <tr>\n",
       "      <th>22</th>\n",
       "      <td>0.000000e+00</td>\n",
       "    </tr>\n",
       "    <tr>\n",
       "      <th>23</th>\n",
       "      <td>0.000000e+00</td>\n",
       "    </tr>\n",
       "    <tr>\n",
       "      <th>24</th>\n",
       "      <td>0.000000e+00</td>\n",
       "    </tr>\n",
       "    <tr>\n",
       "      <th>25</th>\n",
       "      <td>0.000000e+00</td>\n",
       "    </tr>\n",
       "    <tr>\n",
       "      <th>26</th>\n",
       "      <td>0.000000e+00</td>\n",
       "    </tr>\n",
       "    <tr>\n",
       "      <th>27</th>\n",
       "      <td>0.000000e+00</td>\n",
       "    </tr>\n",
       "    <tr>\n",
       "      <th>28</th>\n",
       "      <td>0.000000e+00</td>\n",
       "    </tr>\n",
       "    <tr>\n",
       "      <th>29</th>\n",
       "      <td>0.000000e+00</td>\n",
       "    </tr>\n",
       "    <tr>\n",
       "      <th>...</th>\n",
       "      <td>...</td>\n",
       "    </tr>\n",
       "    <tr>\n",
       "      <th>233507</th>\n",
       "      <td>4.173946e+07</td>\n",
       "    </tr>\n",
       "    <tr>\n",
       "      <th>233508</th>\n",
       "      <td>4.189701e+07</td>\n",
       "    </tr>\n",
       "    <tr>\n",
       "      <th>233509</th>\n",
       "      <td>4.213987e+07</td>\n",
       "    </tr>\n",
       "    <tr>\n",
       "      <th>233510</th>\n",
       "      <td>4.248563e+07</td>\n",
       "    </tr>\n",
       "    <tr>\n",
       "      <th>233511</th>\n",
       "      <td>4.256275e+07</td>\n",
       "    </tr>\n",
       "    <tr>\n",
       "      <th>233512</th>\n",
       "      <td>4.262781e+07</td>\n",
       "    </tr>\n",
       "    <tr>\n",
       "      <th>233513</th>\n",
       "      <td>4.264718e+07</td>\n",
       "    </tr>\n",
       "    <tr>\n",
       "      <th>233514</th>\n",
       "      <td>4.266066e+07</td>\n",
       "    </tr>\n",
       "    <tr>\n",
       "      <th>233515</th>\n",
       "      <td>4.286065e+07</td>\n",
       "    </tr>\n",
       "    <tr>\n",
       "      <th>233516</th>\n",
       "      <td>4.299072e+07</td>\n",
       "    </tr>\n",
       "    <tr>\n",
       "      <th>233517</th>\n",
       "      <td>4.314996e+07</td>\n",
       "    </tr>\n",
       "    <tr>\n",
       "      <th>233518</th>\n",
       "      <td>4.326831e+07</td>\n",
       "    </tr>\n",
       "    <tr>\n",
       "      <th>233519</th>\n",
       "      <td>4.326919e+07</td>\n",
       "    </tr>\n",
       "    <tr>\n",
       "      <th>233520</th>\n",
       "      <td>4.336875e+07</td>\n",
       "    </tr>\n",
       "    <tr>\n",
       "      <th>233521</th>\n",
       "      <td>4.348840e+07</td>\n",
       "    </tr>\n",
       "    <tr>\n",
       "      <th>233522</th>\n",
       "      <td>4.351028e+07</td>\n",
       "    </tr>\n",
       "    <tr>\n",
       "      <th>233523</th>\n",
       "      <td>4.360137e+07</td>\n",
       "    </tr>\n",
       "    <tr>\n",
       "      <th>233524</th>\n",
       "      <td>4.360888e+07</td>\n",
       "    </tr>\n",
       "    <tr>\n",
       "      <th>233525</th>\n",
       "      <td>4.402420e+07</td>\n",
       "    </tr>\n",
       "    <tr>\n",
       "      <th>233526</th>\n",
       "      <td>4.407626e+07</td>\n",
       "    </tr>\n",
       "    <tr>\n",
       "      <th>233527</th>\n",
       "      <td>4.479667e+07</td>\n",
       "    </tr>\n",
       "    <tr>\n",
       "      <th>233528</th>\n",
       "      <td>4.519102e+07</td>\n",
       "    </tr>\n",
       "    <tr>\n",
       "      <th>233529</th>\n",
       "      <td>4.537315e+07</td>\n",
       "    </tr>\n",
       "    <tr>\n",
       "      <th>233530</th>\n",
       "      <td>4.546589e+07</td>\n",
       "    </tr>\n",
       "    <tr>\n",
       "      <th>233531</th>\n",
       "      <td>4.610038e+07</td>\n",
       "    </tr>\n",
       "    <tr>\n",
       "      <th>233532</th>\n",
       "      <td>4.776086e+07</td>\n",
       "    </tr>\n",
       "    <tr>\n",
       "      <th>233533</th>\n",
       "      <td>4.996591e+07</td>\n",
       "    </tr>\n",
       "    <tr>\n",
       "      <th>233534</th>\n",
       "      <td>5.007302e+07</td>\n",
       "    </tr>\n",
       "    <tr>\n",
       "      <th>233535</th>\n",
       "      <td>6.270422e+07</td>\n",
       "    </tr>\n",
       "    <tr>\n",
       "      <th>233536</th>\n",
       "      <td>6.839566e+09</td>\n",
       "    </tr>\n",
       "  </tbody>\n",
       "</table>\n",
       "<p>233537 rows × 1 columns</p>\n",
       "</div>"
      ],
      "text/plain": [
       "           time_dist\n",
       "0       0.000000e+00\n",
       "1       0.000000e+00\n",
       "2       0.000000e+00\n",
       "3       0.000000e+00\n",
       "4       0.000000e+00\n",
       "5       0.000000e+00\n",
       "6       0.000000e+00\n",
       "7       0.000000e+00\n",
       "8       0.000000e+00\n",
       "9       0.000000e+00\n",
       "10      0.000000e+00\n",
       "11      0.000000e+00\n",
       "12      0.000000e+00\n",
       "13      0.000000e+00\n",
       "14      0.000000e+00\n",
       "15      0.000000e+00\n",
       "16      0.000000e+00\n",
       "17      0.000000e+00\n",
       "18      0.000000e+00\n",
       "19      0.000000e+00\n",
       "20      0.000000e+00\n",
       "21      0.000000e+00\n",
       "22      0.000000e+00\n",
       "23      0.000000e+00\n",
       "24      0.000000e+00\n",
       "25      0.000000e+00\n",
       "26      0.000000e+00\n",
       "27      0.000000e+00\n",
       "28      0.000000e+00\n",
       "29      0.000000e+00\n",
       "...              ...\n",
       "233507  4.173946e+07\n",
       "233508  4.189701e+07\n",
       "233509  4.213987e+07\n",
       "233510  4.248563e+07\n",
       "233511  4.256275e+07\n",
       "233512  4.262781e+07\n",
       "233513  4.264718e+07\n",
       "233514  4.266066e+07\n",
       "233515  4.286065e+07\n",
       "233516  4.299072e+07\n",
       "233517  4.314996e+07\n",
       "233518  4.326831e+07\n",
       "233519  4.326919e+07\n",
       "233520  4.336875e+07\n",
       "233521  4.348840e+07\n",
       "233522  4.351028e+07\n",
       "233523  4.360137e+07\n",
       "233524  4.360888e+07\n",
       "233525  4.402420e+07\n",
       "233526  4.407626e+07\n",
       "233527  4.479667e+07\n",
       "233528  4.519102e+07\n",
       "233529  4.537315e+07\n",
       "233530  4.546589e+07\n",
       "233531  4.610038e+07\n",
       "233532  4.776086e+07\n",
       "233533  4.996591e+07\n",
       "233534  5.007302e+07\n",
       "233535  6.270422e+07\n",
       "233536  6.839566e+09\n",
       "\n",
       "[233537 rows x 1 columns]"
      ]
     },
     "execution_count": 21,
     "metadata": {},
     "output_type": "execute_result"
    }
   ],
   "source": [
    "## Despliego todos los tiempos para poder tomar los percentiles\n",
    "df = submissions.sort_values(ascending=True, by='time_dist').round()['time_dist'].to_frame()\n",
    "df = df[df['time_dist'] >= 0].reset_index(drop=True)['time_dist'].to_frame()\n",
    "df"
   ]
  },
  {
   "cell_type": "code",
   "execution_count": 22,
   "metadata": {
    "ExecuteTime": {
     "end_time": "2019-06-05T20:54:15.944608Z",
     "start_time": "2019-06-05T20:54:15.798208Z"
    }
   },
   "outputs": [
    {
     "name": "stdout",
     "output_type": "stream",
     "text": [
      "Total times 233537\n",
      "Quantile %95 time 5937.0.\n",
      "Quantile %90 time 623.0.\n",
      "Quantile %85 time 299.0.\n",
      "Quantile %80 time 194.0\n"
     ]
    }
   ],
   "source": [
    "print('Total times {}'.format(df.shape[0]))\n",
    "print('Quantile %95 time {}.'.format(df.quantile(0.95)[0]))\n",
    "print('Quantile %90 time {}.'.format(df.quantile(0.90)[0]))\n",
    "print('Quantile %85 time {}.'.format(df.quantile(0.85)[0]))\n",
    "print('Quantile %80 time {}'.format(df.quantile(0.80)[0]))"
   ]
  },
  {
   "cell_type": "code",
   "execution_count": 55,
   "metadata": {
    "ExecuteTime": {
     "end_time": "2019-03-02T16:52:08.358569Z",
     "start_time": "2019-03-02T16:52:08.349120Z"
    }
   },
   "outputs": [
    {
     "data": {
      "text/plain": [
       "time_dist    454.0\n",
       "Name: 0.9, dtype: float64"
      ]
     },
     "execution_count": 55,
     "metadata": {},
     "output_type": "execute_result"
    }
   ],
   "source": [
    "df.quantile(.90)"
   ]
  },
  {
   "cell_type": "markdown",
   "metadata": {},
   "source": [
    "### 95 percentage"
   ]
  },
  {
   "cell_type": "code",
   "execution_count": 17,
   "metadata": {
    "ExecuteTime": {
     "end_time": "2019-06-05T20:34:32.300270Z",
     "start_time": "2019-06-05T20:34:31.169695Z"
    },
    "scrolled": false
   },
   "outputs": [
    {
     "name": "stderr",
     "output_type": "stream",
     "text": [
      "/home/mrc/anaconda3/envs/mumuki/lib/python3.6/site-packages/matplotlib/axes/_axes.py:6462: UserWarning: The 'normed' kwarg is deprecated, and has been replaced by the 'density' kwarg.\n",
      "  warnings.warn(\"The 'normed' kwarg is deprecated, and has been \"\n"
     ]
    },
    {
     "data": {
      "image/png": "[encoded data removed]",
      "text/plain": [
       "<Figure size 1440x720 with 1 Axes>"
      ]
     },
     "metadata": {},
     "output_type": "display_data"
    }
   ],
   "source": [
    "import pandas as pd\n",
    "import seaborn as sb\n",
    "from matplotlib import pyplot as plt\n",
    "sb.set()\n",
    "sb.set_palette(sb.color_palette(\"dark\", 100))\n",
    "plt.figure(figsize=(20,10))\n",
    "#plt.xlim(-10,1600)\n",
    "sb.distplot(df.loc[:18336, :],kde = False, label='Soluciones enviadas')\n",
    "\n",
    "plt.title('Tiempo entre soluciones - Intro Algo', size=30)\n",
    "plt.xlabel('Tiempo (en segundos)', size=18)\n",
    "plt.xticks(size=25)\n",
    "plt.yticks(size=25)\n",
    "plt.xlim(-10,1600)\n",
    "#plt.ylabel('Cantidad de submissions', size=18)\n",
    "plt.scatter([454],[200], color='red', s=1)\n",
    "plt.legend(prop={'size': 20})\n",
    "             \n",
    "plt.show()\n"
   ]
  },
  {
   "cell_type": "code",
   "execution_count": 104,
   "metadata": {
    "ExecuteTime": {
     "end_time": "2019-03-02T17:47:31.610144Z",
     "start_time": "2019-03-02T17:47:31.585366Z"
    }
   },
   "outputs": [
    {
     "data": {
      "text/html": [
       "<div>\n",
       "<style scoped>\n",
       "    .dataframe tbody tr th:only-of-type {\n",
       "        vertical-align: middle;\n",
       "    }\n",
       "\n",
       "    .dataframe tbody tr th {\n",
       "        vertical-align: top;\n",
       "    }\n",
       "\n",
       "    .dataframe thead th {\n",
       "        text-align: right;\n",
       "    }\n",
       "</style>\n",
       "<table border=\"1\" class=\"dataframe\">\n",
       "  <thead>\n",
       "    <tr style=\"text-align: right;\">\n",
       "      <th></th>\n",
       "      <th>time_dist</th>\n",
       "    </tr>\n",
       "  </thead>\n",
       "  <tbody>\n",
       "    <tr>\n",
       "      <th>18336</th>\n",
       "      <td>1541.0</td>\n",
       "    </tr>\n",
       "  </tbody>\n",
       "</table>\n",
       "</div>"
      ],
      "text/plain": [
       "       time_dist\n",
       "18336     1541.0"
      ]
     },
     "execution_count": 104,
     "metadata": {},
     "output_type": "execute_result"
    }
   ],
   "source": [
    "df[df['time_dist'] == 1541]\n",
    "#df.loc[:1493, :]"
   ]
  },
  {
   "cell_type": "code",
   "execution_count": null,
   "metadata": {},
   "outputs": [],
   "source": []
  }
 ],
 "metadata": {
  "kernelspec": {
   "display_name": "Python 3",
   "language": "python",
   "name": "python3"
  },
  "language_info": {
   "codemirror_mode": {
    "name": "ipython",
    "version": 3
   },
   "file_extension": ".py",
   "mimetype": "text/x-python",
   "name": "python",
   "nbconvert_exporter": "python",
   "pygments_lexer": "ipython3",
   "version": "3.6.12"
  }
 },
 "nbformat": 4,
 "nbformat_minor": 2
}
